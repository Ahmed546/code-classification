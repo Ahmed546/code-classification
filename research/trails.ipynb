{
 "cells": [
  {
   "cell_type": "code",
   "execution_count": null,
   "metadata": {},
   "outputs": [],
   "source": [
    "print(\"ok\")"
   ]
  },
  {
   "cell_type": "code",
   "execution_count": 9,
   "metadata": {},
   "outputs": [
    {
     "name": "stdout",
     "output_type": "stream",
     "text": [
      "Extracted Text:\n",
      "Fie kat Sewch View Project fan Toate\n",
      "PUGS KHHOOPAT SSP) oioiao cu wi8elo-o-leelie aria =|\n",
      "l# File: factorial.py\n",
      "# Simple example program to calculate the factorial of a number\n",
      "# that is inputted by the user\n",
      "\n",
      "# returns the factorial of the argument \"number\"\n",
      "def factorial(number) :\n",
      "product = 1 ;\n",
      "\n",
      "for i in range(number) :\n",
      "product = product * (i+1)\n",
      "\n",
      "number = input(\"Enter a non-negative integer to take the factorial of: \")\n",
      "\n",
      "ami, ens:\n",
      "ter [re | eink | tet le\n",
      "\n",
      "a 5\n",
      "\n",
      "\n"
     ]
    },
    {
     "name": "stderr",
     "output_type": "stream",
     "text": [
      "Some weights of the model checkpoint at huggingface/CodeBERTa-language-id were not used when initializing RobertaForSequenceClassification: ['roberta.pooler.dense.bias', 'roberta.pooler.dense.weight']\n",
      "- This IS expected if you are initializing RobertaForSequenceClassification from the checkpoint of a model trained on another task or with another architecture (e.g. initializing a BertForSequenceClassification model from a BertForPreTraining model).\n",
      "- This IS NOT expected if you are initializing RobertaForSequenceClassification from the checkpoint of a model that you expect to be exactly identical (initializing a BertForSequenceClassification model from a BertForSequenceClassification model).\n",
      "Device set to use cpu\n",
      "Device set to use cpu\n",
      "Your max_length is set to 200, but your input_length is only 165. Since this is a summarization task, where outputs shorter than the input are typically wanted, you might consider decreasing max_length manually, e.g. summarizer('...', max_length=82)\n"
     ]
    },
    {
     "name": "stdout",
     "output_type": "stream",
     "text": [
      "Code Explanation:\n",
      " (\n",
      "1. Create a function factorial that will take the factorial of a number that is inputted by the user.\n",
      "2. In the code we will use the input() function of the program.\n",
      "3. At first we will ask the user to enter a non-negative integer to take the product of the number.\n",
      "4. In while loop will loop through the range of numbers and multiply them by one.\n",
      "5. For each number in the range, we will calculate the product by 1.\n",
      "6. At last we will take a number from the user's inputted user's choice.\n",
      "\n",
      "Detected Language: python (Confidence: 59.05%)\n",
      "Author: Unknown\n",
      "Accuracy: 59.05%\n"
     ]
    }
   ],
   "source": [
    "import pytesseract\n",
    "from PIL import Image\n",
    "from transformers import pipeline\n",
    "from langid import classify\n",
    "import regex\n",
    "\n",
    "def analyze_code_snippet(image_path):\n",
    "    # Step 1: Extract text from the image using OCR\n",
    "    try:\n",
    "        image = Image.open(image_path)\n",
    "        extracted_text = pytesseract.image_to_string(image)\n",
    "        print(f\"Extracted Text:\\n{extracted_text}\")\n",
    "    except Exception as e:\n",
    "        print(\"Error extracting text:\", e)\n",
    "        return\n",
    "\n",
    "    # Step 2: Identify programming language\n",
    "    try:\n",
    "        code_detector = pipeline(\"text-classification\", model=\"huggingface/CodeBERTa-language-id\")\n",
    "        language_prediction = code_detector(extracted_text)\n",
    "        language = language_prediction[0]['label']\n",
    "        confidence = language_prediction[0]['score']\n",
    "        code_explainer = pipeline(\"summarization\", model=\"ashwinR/CodeExplainer\")\n",
    "        explanation = code_explainer(extracted_text)[0]['summary_text']\n",
    "        print(f\"Code Explanation:\\n{explanation}\")\n",
    "        print(f\"Detected Language: {language} (Confidence: {confidence:.2%})\")\n",
    "    except Exception as e:\n",
    "        print(\"Error identifying language:\", e)\n",
    "        language = None\n",
    "        confidence = None\n",
    "\n",
    "    # Step 3: Search for author's name\n",
    "    author_pattern = r'author\\s*[:=]\\s*[\"\\']?([\\w\\s]+)[\"\\']?'\n",
    "    author_match = regex.search(author_pattern, extracted_text, regex.IGNORECASE)\n",
    "    author = author_match.group(1) if author_match else \"Unknown\"\n",
    "    print(f\"Author: {author}\")\n",
    "\n",
    "    \n",
    "\n",
    "    # Step 4: Show accuracy metrics\n",
    "    if confidence is not None:\n",
    "        accuracy_score = confidence * 100\n",
    "        print(f\"Accuracy: {accuracy_score:.2f}%\")\n",
    "    else:\n",
    "        print(\"Accuracy: N/A\")\n",
    "\n",
    "    return {\"language\": language, \"author\": author, \"confidence\": confidence}\n",
    "\n",
    "# Example usage\n",
    "if __name__ == \"__main__\":\n",
    "    image_path = \"D:\\AI-Projects\\code-classification\\3DTopia_LGM_main_part1.png\"  # Replace with your image path\n",
    "    analyze_code_snippet(image_path)\n"
   ]
  },
  {
   "cell_type": "code",
   "execution_count": 1,
   "metadata": {},
   "outputs": [],
   "source": [
    "import pytesseract\n",
    "\n",
    "pytesseract.pytesseract.tesseract_cmd = r'C:\\Program Files\\Tesseract-OCR\\tesseract.exe'"
   ]
  },
  {
   "cell_type": "code",
   "execution_count": null,
   "metadata": {},
   "outputs": [],
   "source": [
    "%pip install pytesseract"
   ]
  },
  {
   "cell_type": "code",
   "execution_count": null,
   "metadata": {},
   "outputs": [],
   "source": [
    "%pip install transformers torch "
   ]
  },
  {
   "cell_type": "code",
   "execution_count": null,
   "metadata": {},
   "outputs": [],
   "source": [
    "%pip install langid"
   ]
  },
  {
   "cell_type": "code",
   "execution_count": 6,
   "metadata": {},
   "outputs": [
    {
     "name": "stdout",
     "output_type": "stream",
     "text": [
      "Requirement already satisfied: regex in d:\\ai-projects\\code-classification\\venv\\lib\\site-packages (2024.11.6)\n",
      "Note: you may need to restart the kernel to use updated packages.\n"
     ]
    }
   ],
   "source": [
    "%pip install regex"
   ]
  },
  {
   "cell_type": "code",
   "execution_count": null,
   "metadata": {},
   "outputs": [],
   "source": []
  }
 ],
 "metadata": {
  "kernelspec": {
   "display_name": "Python 3",
   "language": "python",
   "name": "python3"
  },
  "language_info": {
   "codemirror_mode": {
    "name": "ipython",
    "version": 3
   },
   "file_extension": ".py",
   "mimetype": "text/x-python",
   "name": "python",
   "nbconvert_exporter": "python",
   "pygments_lexer": "ipython3",
   "version": "3.10.16"
  }
 },
 "nbformat": 4,
 "nbformat_minor": 2
}
